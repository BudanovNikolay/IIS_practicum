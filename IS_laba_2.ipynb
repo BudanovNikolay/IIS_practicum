{
 "cells": [
  {
   "cell_type": "code",
   "execution_count": 1,
   "id": "4373e9d3",
   "metadata": {},
   "outputs": [],
   "source": [
    "class Books_recomend_system:\n",
    "    def __init__(self):\n",
    "        self.rules = {\n",
    "            'Тематика': {\n",
    "                'Научная литература - 1': ['Химия', 'Экономика', 'Программирование'],\n",
    "                'Художественная литература - 2': ['Детектив - 1', 'Роман - 2', 'Сатира - 3']\n",
    "            },\n",
    "            \n",
    "            'Жанры': {\n",
    "                'Детектив':['Шерлок Холмс'],\n",
    "                'Роман':['На западном фронте без изменений'],\n",
    "                'Сатира':['12 стульев']\n",
    "            },\n",
    "            \n",
    "            'Научные сферы': {\n",
    "                'Химия':['Учебник по химии'],\n",
    "                'Экономика': ['Один хороший трейд'],\n",
    "                'Программирование':['Основы computer science']\n",
    "            }\n",
    "        }\n",
    "        \n",
    "    def get_recommendation(self):\n",
    "        ask = int(input('Какую тематику предпочитаете? 1 - Научная литература, 2 - Художественная литература: '))\n",
    "        if ask == 1:\n",
    "            ask = int(input('Какая сфера вам интересна? 1 - Химия, 2 - Экономика, 3 - Программирование: '))\n",
    "            if ask == 1:\n",
    "                print('Рекомендую:', self.rules['Научные сферы']['Химия'])\n",
    "            elif ask == 2:\n",
    "                print('Рекомендую:', self.rules['Научные сферы']['Экономика'])\n",
    "            else:\n",
    "                print('Рекомендую:', self.rules['Научные сферы']['Программирование'])\n",
    "            \n",
    "        else:\n",
    "            ask = int(input('Какие жанры вам нравятся? 1 - Детектив, 2 - Романы, 3 - Сатира: '))\n",
    "            if ask == 1:\n",
    "                print('Рекомендую:', self.rules['Жанры']['Детектив'])\n",
    "            elif ask == 2:\n",
    "                print('Рекомендую:', self.rules['Жанры']['Роман'])\n",
    "            else:\n",
    "                print('Рекомендую:', self.rules['Жанры']['Сатира'])"
   ]
  },
  {
   "cell_type": "markdown",
   "id": "dd31c213",
   "metadata": {},
   "source": [
    "Иннициализирую объект класса Books_recomend_system"
   ]
  },
  {
   "cell_type": "code",
   "execution_count": 2,
   "id": "6cfab782",
   "metadata": {},
   "outputs": [],
   "source": [
    "system = Books_recomend_system()"
   ]
  },
  {
   "cell_type": "code",
   "execution_count": 3,
   "id": "f96e138a",
   "metadata": {},
   "outputs": [
    {
     "name": "stdout",
     "output_type": "stream",
     "text": [
      "Какую тематику предпочитаете? 1 - Научная литература, 2 - Художественная литература: 2\n",
      "Какие жанры вам нравятся? 1 - Детектив, 2 - Романы, 3 - Сатира: 3\n",
      "Рекомендую: ['12 стульев']\n"
     ]
    }
   ],
   "source": [
    "system.get_recommendation()"
   ]
  },
  {
   "cell_type": "code",
   "execution_count": null,
   "id": "4f529e65",
   "metadata": {},
   "outputs": [],
   "source": []
  }
 ],
 "metadata": {
  "kernelspec": {
   "display_name": "Python 3 (ipykernel)",
   "language": "python",
   "name": "python3"
  },
  "language_info": {
   "codemirror_mode": {
    "name": "ipython",
    "version": 3
   },
   "file_extension": ".py",
   "mimetype": "text/x-python",
   "name": "python",
   "nbconvert_exporter": "python",
   "pygments_lexer": "ipython3",
   "version": "3.10.9"
  }
 },
 "nbformat": 4,
 "nbformat_minor": 5
}
