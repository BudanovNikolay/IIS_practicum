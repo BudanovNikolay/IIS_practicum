{
  "nbformat": 4,
  "nbformat_minor": 0,
  "metadata": {
    "colab": {
      "provenance": []
    },
    "kernelspec": {
      "name": "python3",
      "display_name": "Python 3"
    },
    "language_info": {
      "name": "python"
    }
  },
  "cells": [
    {
      "cell_type": "code",
      "execution_count": 37,
      "metadata": {
        "id": "LnAnG8YhRXf0"
      },
      "outputs": [],
      "source": [
        "import math\n",
        "import random"
      ]
    },
    {
      "cell_type": "code",
      "source": [
        "def function(x):\n",
        "  action_1 = math.sqrt(x) * math.sin((x**2)/2) - 1.3\n",
        "  action_2 = (x**1/5) + (math.e**(3*x)) + math.fabs(math.cos(x))\n",
        "  return action_1 / action_2"
      ],
      "metadata": {
        "id": "oXk6L1WRRc1C"
      },
      "execution_count": 38,
      "outputs": []
    },
    {
      "cell_type": "code",
      "source": [
        "def random_generation(count_value, a, b):\n",
        "  values = []\n",
        "  for i in range(count_value):\n",
        "    values.append(random.uniform(a, b))\n",
        "  return values\n"
      ],
      "metadata": {
        "id": "Csh8Px41aaMK"
      },
      "execution_count": 39,
      "outputs": []
    },
    {
      "cell_type": "code",
      "source": [
        "def alot_of_functions(x_values_list):\n",
        "  results = []\n",
        "  for x in x_values_list:\n",
        "    results.append(function(x))\n",
        "\n",
        "  return results"
      ],
      "metadata": {
        "id": "4jwtB1VMdWZ2"
      },
      "execution_count": 40,
      "outputs": []
    },
    {
      "cell_type": "code",
      "source": [
        "class BankAccount():\n",
        "  def __init__(self, name) -> None:\n",
        "    self.user_name_ = name\n",
        "    self.balance_ = 5000\n",
        "\n",
        "\n",
        "  def make_transfer(self, sum_of_transfer, adress_of_transfer):\n",
        "    if self.balance_ >= sum_of_transfer:\n",
        "      self.balance_ -= sum_of_transfer\n",
        "      adress_of_transfer.balance_ += sum_of_transfer\n",
        "\n",
        "    else:\n",
        "      print('недостаточно средств')\n",
        "\n",
        "  def top_up(self, sum_):\n",
        "    self.balance_ += sum_"
      ],
      "metadata": {
        "id": "MIkH4YrBUsVC"
      },
      "execution_count": 41,
      "outputs": []
    },
    {
      "cell_type": "code",
      "source": [
        "x_values = random_generation(10, a=0.1, b=0.6)\n"
      ],
      "metadata": {
        "id": "az7ius9Jcc0A"
      },
      "execution_count": 42,
      "outputs": []
    },
    {
      "cell_type": "code",
      "source": [
        "#Задание 1"
      ],
      "metadata": {
        "id": "RcHys3riecSZ"
      },
      "execution_count": 43,
      "outputs": []
    },
    {
      "cell_type": "code",
      "source": [
        "function(x=0.5)"
      ],
      "metadata": {
        "colab": {
          "base_uri": "https://localhost:8080/"
        },
        "id": "rx38PDk2YGF7",
        "outputId": "2d0c09b3-368f-48ba-b368-2645145bac6d"
      },
      "execution_count": 44,
      "outputs": [
        {
          "output_type": "execute_result",
          "data": {
            "text/plain": [
              "-0.22197863235576268"
            ]
          },
          "metadata": {},
          "execution_count": 44
        }
      ]
    },
    {
      "cell_type": "code",
      "source": [
        "#задание 2"
      ],
      "metadata": {
        "id": "NTpCzcfUYBDd"
      },
      "execution_count": 45,
      "outputs": []
    },
    {
      "cell_type": "code",
      "source": [
        "sum(alot_of_functions(x_values))"
      ],
      "metadata": {
        "colab": {
          "base_uri": "https://localhost:8080/"
        },
        "id": "qByGz_9IfvoX",
        "outputId": "ef3990c8-9b0e-40a7-f4fb-29e5f63a7674"
      },
      "execution_count": 46,
      "outputs": [
        {
          "output_type": "execute_result",
          "data": {
            "text/plain": [
              "-3.111476887441336"
            ]
          },
          "metadata": {},
          "execution_count": 46
        }
      ]
    },
    {
      "cell_type": "code",
      "source": [
        "#задаание 3"
      ],
      "metadata": {
        "id": "DPNER1QBfsJf"
      },
      "execution_count": 47,
      "outputs": []
    },
    {
      "cell_type": "code",
      "source": [
        "acount_1 = BankAccount('name_1')\n",
        "acount_2 = BankAccount('name_2')"
      ],
      "metadata": {
        "id": "ms0LYrrMf6K1"
      },
      "execution_count": 48,
      "outputs": []
    },
    {
      "cell_type": "code",
      "source": [
        "print('баланс 1-го аккаунта', acount_1.balance_)\n",
        "print('баланс 2-го аккаунта', acount_2.balance_)"
      ],
      "metadata": {
        "colab": {
          "base_uri": "https://localhost:8080/"
        },
        "id": "58S7d2IyY1aW",
        "outputId": "10554d58-0fc4-428b-9734-4c139d0e33ef"
      },
      "execution_count": 49,
      "outputs": [
        {
          "output_type": "stream",
          "name": "stdout",
          "text": [
            "баланс 1-го аккаунта 5000\n",
            "баланс 2-го аккаунта 5000\n"
          ]
        }
      ]
    },
    {
      "cell_type": "code",
      "source": [
        "# из аккаунта 1 переводим не аккаунт 2 1000"
      ],
      "metadata": {
        "id": "xcQS6O0_ZNna"
      },
      "execution_count": 50,
      "outputs": []
    },
    {
      "cell_type": "code",
      "source": [
        "acount_1.make_transfer(1000, acount_2)"
      ],
      "metadata": {
        "id": "uqWLe57OYWzh"
      },
      "execution_count": 51,
      "outputs": []
    },
    {
      "cell_type": "code",
      "source": [
        "print('баланс 1-го аккаунта', acount_1.balance_)\n",
        "print('баланс 2-го аккаунта', acount_2.balance_)"
      ],
      "metadata": {
        "colab": {
          "base_uri": "https://localhost:8080/"
        },
        "id": "YQXesEFuYcRM",
        "outputId": "8386cbe1-2d28-4205-d66d-bbe96246da6f"
      },
      "execution_count": 52,
      "outputs": [
        {
          "output_type": "stream",
          "name": "stdout",
          "text": [
            "баланс 1-го аккаунта 4000\n",
            "баланс 2-го аккаунта 6000\n"
          ]
        }
      ]
    },
    {
      "cell_type": "code",
      "source": [],
      "metadata": {
        "id": "og6VGc7xZdvy"
      },
      "execution_count": null,
      "outputs": []
    }
  ]
}