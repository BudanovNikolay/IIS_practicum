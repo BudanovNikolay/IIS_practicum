{
 "cells": [
  {
   "cell_type": "code",
   "execution_count": 1,
   "id": "c049f535-5802-4fa8-8736-e101f58515b9",
   "metadata": {},
   "outputs": [],
   "source": [
    "import pandas as pd\n",
    "import numpy as np\n",
    "import nltk\n",
    "from nltk.corpus import stopwords as nltk_stopwords\n",
    "from sklearn.feature_extraction.text import TfidfVectorizer\n",
    "from sklearn.linear_model import LogisticRegression\n",
    "from sklearn.metrics import accuracy_score\n",
    "from sklearn.model_selection import train_test_split"
   ]
  },
  {
   "cell_type": "code",
   "execution_count": 2,
   "id": "f9f08d7a",
   "metadata": {},
   "outputs": [],
   "source": [
    "RANDOM_STATE = 234"
   ]
  },
  {
   "cell_type": "code",
   "execution_count": 3,
   "id": "c28b875c",
   "metadata": {},
   "outputs": [],
   "source": [
    "train_data = pd.read_csv('C:\\\\Users\\\\tipa_programmist\\\\OneDrive\\\\Рабочий стол\\\\tweets_lemm_train.csv')\n",
    "test_data = pd.read_csv('C:\\\\Users\\\\tipa_programmist\\\\OneDrive\\\\Рабочий стол\\\\tweets_lemm_test.csv')"
   ]
  },
  {
   "cell_type": "code",
   "execution_count": 4,
   "id": "2785c787",
   "metadata": {
    "scrolled": false
   },
   "outputs": [
    {
     "data": {
      "text/html": [
       "<div>\n",
       "<style scoped>\n",
       "    .dataframe tbody tr th:only-of-type {\n",
       "        vertical-align: middle;\n",
       "    }\n",
       "\n",
       "    .dataframe tbody tr th {\n",
       "        vertical-align: top;\n",
       "    }\n",
       "\n",
       "    .dataframe thead th {\n",
       "        text-align: right;\n",
       "    }\n",
       "</style>\n",
       "<table border=\"1\" class=\"dataframe\">\n",
       "  <thead>\n",
       "    <tr style=\"text-align: right;\">\n",
       "      <th></th>\n",
       "      <th>text</th>\n",
       "      <th>positive</th>\n",
       "      <th>lemm_text</th>\n",
       "    </tr>\n",
       "  </thead>\n",
       "  <tbody>\n",
       "    <tr>\n",
       "      <th>0</th>\n",
       "      <td>@first_timee хоть я и школота, но поверь, у на...</td>\n",
       "      <td>1</td>\n",
       "      <td>хоть я и школотый но поверь у мы то же самый о...</td>\n",
       "    </tr>\n",
       "    <tr>\n",
       "      <th>1</th>\n",
       "      <td>Да, все-таки он немного похож на него. Но мой ...</td>\n",
       "      <td>1</td>\n",
       "      <td>да весь таки он немного похожий на он но мой м...</td>\n",
       "    </tr>\n",
       "    <tr>\n",
       "      <th>2</th>\n",
       "      <td>RT @KatiaCheh: Ну ты идиотка) я испугалась за ...</td>\n",
       "      <td>1</td>\n",
       "      <td>ну ты идиотка я испугаться за ты</td>\n",
       "    </tr>\n",
       "    <tr>\n",
       "      <th>3</th>\n",
       "      <td>RT @digger2912: \"Кто то в углу сидит и погибае...</td>\n",
       "      <td>1</td>\n",
       "      <td>кто то в угол сидеть и погибать от голод а мы ...</td>\n",
       "    </tr>\n",
       "    <tr>\n",
       "      <th>4</th>\n",
       "      <td>@irina_dyshkant Вот что значит страшилка :D\\r\\...</td>\n",
       "      <td>1</td>\n",
       "      <td>вот что значит страшилка но блин посмотреть ве...</td>\n",
       "    </tr>\n",
       "    <tr>\n",
       "      <th>...</th>\n",
       "      <td>...</td>\n",
       "      <td>...</td>\n",
       "      <td>...</td>\n",
       "    </tr>\n",
       "    <tr>\n",
       "      <th>4995</th>\n",
       "      <td>Вроде дружили 10 лет и в один момент все разру...</td>\n",
       "      <td>0</td>\n",
       "      <td>вроде дружить год и в один момент весь разруши...</td>\n",
       "    </tr>\n",
       "    <tr>\n",
       "      <th>4996</th>\n",
       "      <td>@m_gulko \\r\\nПоэтому и поздравляю заранее, что...</td>\n",
       "      <td>0</td>\n",
       "      <td>поэтому и поздравлять заранее что не получитьс...</td>\n",
       "    </tr>\n",
       "    <tr>\n",
       "      <th>4997</th>\n",
       "      <td>RT @kubudojede: черт, ну зачем они переделали ...</td>\n",
       "      <td>0</td>\n",
       "      <td>черта ну зачем они переделать</td>\n",
       "    </tr>\n",
       "    <tr>\n",
       "      <th>4998</th>\n",
       "      <td>RT @xidewojopiba: Вроде бы и любим друг друга,...</td>\n",
       "      <td>0</td>\n",
       "      <td>вроде бы и любим друг друг и быть вместе не мо...</td>\n",
       "    </tr>\n",
       "    <tr>\n",
       "      <th>4999</th>\n",
       "      <td>Одна из самых скучных суббот за последнее врем...</td>\n",
       "      <td>0</td>\n",
       "      <td>один из самый скучный суббота за последний вре...</td>\n",
       "    </tr>\n",
       "  </tbody>\n",
       "</table>\n",
       "<p>5000 rows × 3 columns</p>\n",
       "</div>"
      ],
      "text/plain": [
       "                                                   text  positive  \\\n",
       "0     @first_timee хоть я и школота, но поверь, у на...         1   \n",
       "1     Да, все-таки он немного похож на него. Но мой ...         1   \n",
       "2     RT @KatiaCheh: Ну ты идиотка) я испугалась за ...         1   \n",
       "3     RT @digger2912: \"Кто то в углу сидит и погибае...         1   \n",
       "4     @irina_dyshkant Вот что значит страшилка :D\\r\\...         1   \n",
       "...                                                 ...       ...   \n",
       "4995  Вроде дружили 10 лет и в один момент все разру...         0   \n",
       "4996  @m_gulko \\r\\nПоэтому и поздравляю заранее, что...         0   \n",
       "4997  RT @kubudojede: черт, ну зачем они переделали ...         0   \n",
       "4998  RT @xidewojopiba: Вроде бы и любим друг друга,...         0   \n",
       "4999  Одна из самых скучных суббот за последнее врем...         0   \n",
       "\n",
       "                                              lemm_text  \n",
       "0     хоть я и школотый но поверь у мы то же самый о...  \n",
       "1     да весь таки он немного похожий на он но мой м...  \n",
       "2                     ну ты идиотка я испугаться за ты   \n",
       "3     кто то в угол сидеть и погибать от голод а мы ...  \n",
       "4     вот что значит страшилка но блин посмотреть ве...  \n",
       "...                                                 ...  \n",
       "4995  вроде дружить год и в один момент весь разруши...  \n",
       "4996  поэтому и поздравлять заранее что не получитьс...  \n",
       "4997                     черта ну зачем они переделать   \n",
       "4998  вроде бы и любим друг друг и быть вместе не мо...  \n",
       "4999  один из самый скучный суббота за последний вре...  \n",
       "\n",
       "[5000 rows x 3 columns]"
      ]
     },
     "execution_count": 4,
     "metadata": {},
     "output_type": "execute_result"
    }
   ],
   "source": [
    "train_data"
   ]
  },
  {
   "cell_type": "code",
   "execution_count": 5,
   "id": "9f7b1557",
   "metadata": {},
   "outputs": [],
   "source": [
    "X_train = train_data['lemm_text']\n",
    "Y_train = train_data['positive']\n",
    "X_test = test_data['lemm_text']"
   ]
  },
  {
   "cell_type": "code",
   "execution_count": 6,
   "id": "dbdd17a7",
   "metadata": {},
   "outputs": [],
   "source": [
    "X_train, X_valid, Y_train, Y_valid = train_test_split(X_train, Y_train, random_state=RANDOM_STATE, test_size=0.1)"
   ]
  },
  {
   "cell_type": "code",
   "execution_count": 7,
   "id": "49668faf",
   "metadata": {},
   "outputs": [
    {
     "name": "stderr",
     "output_type": "stream",
     "text": [
      "[nltk_data] Downloading package stopwords to\n",
      "[nltk_data]     C:\\Users\\tipa_programmist\\AppData\\Roaming\\nltk_data...\n",
      "[nltk_data]   Package stopwords is already up-to-date!\n"
     ]
    }
   ],
   "source": [
    "nltk.download('stopwords')\n",
    "stopwords = list(set(nltk_stopwords.words('russian')))"
   ]
  },
  {
   "cell_type": "code",
   "execution_count": 8,
   "id": "851de3cb",
   "metadata": {},
   "outputs": [],
   "source": [
    "tf_idf = TfidfVectorizer(stop_words=stopwords)"
   ]
  },
  {
   "cell_type": "code",
   "execution_count": 9,
   "id": "fb1371cf",
   "metadata": {},
   "outputs": [],
   "source": [
    "TI_X_train = tf_idf.fit_transform(X_train)\n",
    "TI_X_valid = tf_idf.transform(X_valid)\n",
    "TI_X_test = tf_idf.transform(X_test)"
   ]
  },
  {
   "cell_type": "code",
   "execution_count": 10,
   "id": "5ed36cda",
   "metadata": {},
   "outputs": [],
   "source": [
    "lr = LogisticRegression(random_state=RANDOM_STATE).fit(TI_X_train, Y_train)"
   ]
  },
  {
   "cell_type": "code",
   "execution_count": 11,
   "id": "9fd719df",
   "metadata": {},
   "outputs": [
    {
     "name": "stdout",
     "output_type": "stream",
     "text": [
      "0.632\n"
     ]
    }
   ],
   "source": [
    "print(accuracy_score(Y_valid, lr.predict(TI_X_valid)))"
   ]
  },
  {
   "cell_type": "code",
   "execution_count": 12,
   "id": "4d342300",
   "metadata": {},
   "outputs": [],
   "source": [
    "test_data['positive'] = lr.predict(TI_X_test)"
   ]
  },
  {
   "cell_type": "code",
   "execution_count": 13,
   "id": "13cafcfc",
   "metadata": {},
   "outputs": [],
   "source": [
    "test_data.to_csv('C:\\\\Users\\\\tipa_programmist\\\\OneDrive\\\\Рабочий стол\\\\prediction2.csv', index=False)"
   ]
  },
  {
   "cell_type": "code",
   "execution_count": null,
   "id": "d347b9b6",
   "metadata": {},
   "outputs": [],
   "source": []
  }
 ],
 "metadata": {
  "kernelspec": {
   "display_name": "Python 3 (ipykernel)",
   "language": "python",
   "name": "python3"
  },
  "language_info": {
   "codemirror_mode": {
    "name": "ipython",
    "version": 3
   },
   "file_extension": ".py",
   "mimetype": "text/x-python",
   "name": "python",
   "nbconvert_exporter": "python",
   "pygments_lexer": "ipython3",
   "version": "3.10.9"
  }
 },
 "nbformat": 4,
 "nbformat_minor": 5
}
